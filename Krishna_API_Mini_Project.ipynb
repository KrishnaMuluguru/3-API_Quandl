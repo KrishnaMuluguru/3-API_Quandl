{
 "cells": [
  {
   "cell_type": "markdown",
   "metadata": {},
   "source": [
    "This exercise will require you to pull some data from the Qunadl API. Qaundl is currently the most widely used aggregator of financial market data."
   ]
  },
  {
   "cell_type": "markdown",
   "metadata": {},
   "source": [
    "As a first step, you will need to register a free account on the http://www.quandl.com website."
   ]
  },
  {
   "cell_type": "markdown",
   "metadata": {},
   "source": [
    "After you register, you will be provided with a unique API key, that you should store:"
   ]
  },
  {
   "cell_type": "code",
   "execution_count": 1,
   "metadata": {},
   "outputs": [],
   "source": [
    "# Store the API key as a string - according to PEP8, constants are always named in all upper case\n",
    "API_KEY = 'MzQ2aUmy6S19GyH661zp'"
   ]
  },
  {
   "cell_type": "markdown",
   "metadata": {},
   "source": [
    "Qaundl has a large number of data sources, but, unfortunately, most of them require a Premium subscription. Still, there are also a good number of free datasets."
   ]
  },
  {
   "cell_type": "markdown",
   "metadata": {},
   "source": [
    "For this mini project, we will focus on equities data from the Frankfurt Stock Exhange (FSE), which is available for free. We'll try and analyze the stock prices of a company called Carl Zeiss Meditec, which manufactures tools for eye examinations, as well as medical lasers for laser eye surgery: https://www.zeiss.com/meditec/int/home.html. The company is listed under the stock ticker AFX_X."
   ]
  },
  {
   "cell_type": "markdown",
   "metadata": {},
   "source": [
    "You can find the detailed Quandl API instructions here: https://docs.quandl.com/docs/time-series"
   ]
  },
  {
   "cell_type": "markdown",
   "metadata": {},
   "source": [
    "While there is a dedicated Python package for connecting to the Quandl API, we would prefer that you use the *requests* package, which can be easily downloaded using *pip* or *conda*. You can find the documentation for the package here: http://docs.python-requests.org/en/master/ "
   ]
  },
  {
   "cell_type": "markdown",
   "metadata": {},
   "source": [
    "Finally, apart from the *requests* package, you are encouraged to not use any third party Python packages, such as *pandas*, and instead focus on what's available in the Python Standard Library (the *collections* module might come in handy: https://pymotw.com/3/collections/).\n",
    "Also, since you won't have access to DataFrames, you are encouraged to us Python's native data structures - preferably dictionaries, though some questions can also be answered using lists.\n",
    "You can read more on these data structures here: https://docs.python.org/3/tutorial/datastructures.html"
   ]
  },
  {
   "cell_type": "markdown",
   "metadata": {},
   "source": [
    "Keep in mind that the JSON responses you will be getting from the API map almost one-to-one to Python's dictionaries. Unfortunately, they can be very nested, so make sure you read up on indexing dictionaries in the documentation provided above."
   ]
  },
  {
   "cell_type": "code",
   "execution_count": 2,
   "metadata": {},
   "outputs": [],
   "source": [
    "# First, import the relevant modules\n",
    "import requests"
   ]
  },
  {
   "cell_type": "code",
   "execution_count": 3,
   "metadata": {},
   "outputs": [
    {
     "name": "stdout",
     "output_type": "stream",
     "text": [
      "['Date', 'Open', 'High', 'Low', 'Close', 'Change', 'Traded Volume', 'Turnover', 'Last Price of the Day', 'Daily Traded Units', 'Daily Turnover']\n",
      "['2019-01-02', None, 70.85, 68.25, 69.85, None, None, None, None, None, None]\n"
     ]
    }
   ],
   "source": [
    "# Now, call the Quandl API and pull out a small sample of the data (only one day) to get a glimpse\n",
    "# into the JSON structure that will be returned\n",
    "r = requests.get('https://www.quandl.com/api/v3/datasets/FSE/AFX_X/data.json?api_key='+API_KEY)\n",
    "print(r.json()['dataset_data']['column_names'])\n",
    "print(r.json()['dataset_data']['data'][0])"
   ]
  },
  {
   "cell_type": "code",
   "execution_count": 4,
   "metadata": {},
   "outputs": [
    {
     "name": "stdout",
     "output_type": "stream",
     "text": [
      "dict_keys(['limit', 'transform', 'column_index', 'column_names', 'start_date', 'end_date', 'frequency', 'data', 'collapse', 'order'])\n",
      "Start Date = 2000-06-07\n",
      "End Date = 2019-01-02\n"
     ]
    }
   ],
   "source": [
    "# Inspect the JSON structure of the object you created, and take note of how nested it is,\n",
    "# as well as the overall structure\n",
    "afx_x_dict = dict(r.json()['dataset_data'])\n",
    "print(afx_x_dict.keys())\n",
    "print('Start Date = ' + afx_x_dict['start_date'])\n",
    "print('End Date = ' + afx_x_dict['end_date'])"
   ]
  },
  {
   "cell_type": "markdown",
   "metadata": {},
   "source": [
    "These are your tasks for this mini project:\n",
    "\n",
    "1. Collect data from the Franfurt Stock Exchange, for the ticker AFX_X, for the whole year 2017 (keep in mind that the date format is YYYY-MM-DD).\n",
    "2. Convert the returned JSON object into a Python dictionary.\n",
    "3. Calculate what the highest and lowest opening prices were for the stock in this period.\n",
    "4. What was the largest change in any one day (based on High and Low price)?\n",
    "5. What was the largest change between any two days (based on Closing Price)? \n",
    "6. What was the average daily trading volume during this year? <font color='red'>(assumption: this year is 2017. Same applies to Q7)</font>\n",
    "7. (Optional) What was the median trading volume during this year. (Note: you may need to implement your own function for calculating the median.)"
   ]
  },
  {
   "cell_type": "code",
   "execution_count": 5,
   "metadata": {},
   "outputs": [
    {
     "name": "stdout",
     "output_type": "stream",
     "text": [
      "dict_keys(['limit', 'transform', 'column_index', 'column_names', 'start_date', 'end_date', 'frequency', 'data', 'collapse', 'order'])\n",
      "Start Date = 2017-01-01\n",
      "End Date = 2017-12-31\n",
      "Header = ['Date', 'Open', 'High', 'Low', 'Close', 'Change', 'Traded Volume', 'Turnover', 'Last Price of the Day', 'Daily Traded Units', 'Daily Turnover']\n",
      "Data = ['2017-01-02', 34.99, 35.94, 34.99, 35.8, None, 44700.0, 1590561.0, None, None, None]\n"
     ]
    }
   ],
   "source": [
    "# 1,2 - Collect data for 2017 into a Python dictionary\n",
    "\n",
    "afx_2017_dict = requests.get('https://www.quandl.com/api/v3/datasets/FSE/AFX_X/data.json?start_date=2017-01-01&end_date=2017-12-31&order=asc&api_key='+API_KEY).json()['dataset_data']\n",
    "print(afx_2017_dict.keys())\n",
    "print('Start Date = ' + afx_2017_dict['start_date'])\n",
    "print('End Date = ' + afx_2017_dict['end_date'])\n",
    "print('Header = ' + str(afx_2017_dict['column_names']))\n",
    "print('Data = ' + str(afx_2017_dict['data'][0]))"
   ]
  },
  {
   "cell_type": "code",
   "execution_count": 6,
   "metadata": {},
   "outputs": [
    {
     "name": "stdout",
     "output_type": "stream",
     "text": [
      "Highest AFX price for 2017 = 53.11 on 2017-12-14\n",
      "Lowest AFX price for 2017 = 34.0 on 2017-01-24\n"
     ]
    }
   ],
   "source": [
    "# 3 - Highest and lowest opening prices\n",
    "opening_prices_2017 = []\n",
    "dates = []\n",
    "for daily_info in afx_2017_dict['data']:\n",
    "    if daily_info[1] != None:\n",
    "        opening_prices_2017.append(daily_info[1])\n",
    "        dates.append(daily_info[0])\n",
    "\n",
    "highest = max(opening_prices_2017)\n",
    "lowest = min(opening_prices_2017)\n",
    "\n",
    "print('Highest AFX price for 2017 = ' + str(highest) + ' on ' + dates[opening_prices_2017.index(highest)])\n",
    "print('Lowest AFX price for 2017 = ' + str(lowest) + ' on ' + dates[opening_prices_2017.index(lowest)])"
   ]
  },
  {
   "cell_type": "code",
   "execution_count": 7,
   "metadata": {},
   "outputs": [
    {
     "name": "stdout",
     "output_type": "stream",
     "text": [
      "Highest AFX price change in 2017 = 2.81 on 2017-05-11\n"
     ]
    }
   ],
   "source": [
    "# 4 - Largest change in any one day\n",
    "Price_Change = []\n",
    "dates = []\n",
    "for daily_info in afx_2017_dict['data']:\n",
    "    if (daily_info[2] != None) & (daily_info[3] != None):\n",
    "        Price_Change.append(daily_info[2]-daily_info[3])\n",
    "        dates.append(daily_info[0]) \n",
    "        \n",
    "highest_change = max(Price_Change)\n",
    "print('Highest AFX price change in 2017 = ' + str(round(highest_change,2)) + ' on ' + dates[Price_Change.index(highest_change)])"
   ]
  },
  {
   "cell_type": "code",
   "execution_count": 8,
   "metadata": {},
   "outputs": [
    {
     "name": "stdout",
     "output_type": "stream",
     "text": [
      "Highest AFX closing price change in 2017 = 2.56 on 2017-08-09\n"
     ]
    }
   ],
   "source": [
    "# 5 - Largest change in closing price between 2 days\n",
    "closing_prices_2017 = []\n",
    "dates = []\n",
    "price_change = []\n",
    "\n",
    "for daily_info in afx_2017_dict['data']:\n",
    "    if daily_info[4] != None:\n",
    "        closing_prices_2017.append(daily_info[4])\n",
    "        dates.append(daily_info[0])\n",
    "\n",
    "for i,close_price in enumerate(closing_prices_2017):\n",
    "    if i==0:\n",
    "        pass\n",
    "    else:\n",
    "        price_change.append(abs(closing_prices_2017[i]-closing_prices_2017[i-1]))\n",
    "\n",
    "max_change = max(price_change)\n",
    "\n",
    "print('Highest AFX closing price change in 2017 = ' + str(round(max_change,2)) + ' on ' + dates[price_change.index(max_change)+1])"
   ]
  },
  {
   "cell_type": "code",
   "execution_count": 9,
   "metadata": {},
   "outputs": [
    {
     "name": "stdout",
     "output_type": "stream",
     "text": [
      "Computed average trading volume in 2017 = 89124.34\n",
      "Derived from package average trading volume in 2017 = 89124.34\n"
     ]
    }
   ],
   "source": [
    "# 6 - Average daily trading volume in 2017\n",
    "import statistics as s\n",
    "\n",
    "trading_volume_2017 = []\n",
    "dates = []\n",
    "for daily_info in afx_2017_dict['data']:\n",
    "    if daily_info[6] != None:\n",
    "        trading_volume_2017.append(daily_info[6])\n",
    "        dates.append(daily_info[0])\n",
    "\n",
    "avg_trd_volume =  sum(trading_volume_2017)/len(trading_volume_2017)\n",
    "\n",
    "print('Computed average trading volume in 2017 = ' + str(round(avg_trd_volume,2)))\n",
    "print('Derived from package average trading volume in 2017 = ' + str(round(s.mean(trading_volume_2017),2)))\n"
   ]
  },
  {
   "cell_type": "code",
   "execution_count": 10,
   "metadata": {},
   "outputs": [
    {
     "name": "stdout",
     "output_type": "stream",
     "text": [
      "Computed average trading volume in 2017 = 76286.0\n",
      "Derived from package average trading volume in 2017 = 76286.0\n"
     ]
    }
   ],
   "source": [
    "# 7 - Median daily trading volume in 2017\n",
    "\n",
    "def Median(lst):\n",
    "    if len(lst)%2 == 0:\n",
    "        med = (sorted(lst)[round(len(lst)/2)]+sorted(lst)[round((len(lst)/2)-1)])/2\n",
    "    else:\n",
    "        med = sorted(lst)[round((len(lst)/2)-0.5)]\n",
    "    return med\n",
    "            \n",
    "print('Computed average trading volume in 2017 = ' + str(round(Median(trading_volume_2017),2)))\n",
    "print('Derived from package average trading volume in 2017 = ' + str(round(s.median(trading_volume_2017),2)))\n"
   ]
  }
 ],
 "metadata": {
  "kernelspec": {
   "display_name": "Python 3",
   "language": "python",
   "name": "python3"
  },
  "language_info": {
   "codemirror_mode": {
    "name": "ipython",
    "version": 3
   },
   "file_extension": ".py",
   "mimetype": "text/x-python",
   "name": "python",
   "nbconvert_exporter": "python",
   "pygments_lexer": "ipython3",
   "version": "3.7.0"
  }
 },
 "nbformat": 4,
 "nbformat_minor": 2
}
